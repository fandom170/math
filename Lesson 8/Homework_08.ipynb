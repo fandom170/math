{
 "cells": [
  {
   "cell_type": "code",
   "execution_count": 1,
   "id": "original-burning",
   "metadata": {},
   "outputs": [],
   "source": [
    "import numpy as np"
   ]
  },
  {
   "cell_type": "code",
   "execution_count": 2,
   "id": "general-argument",
   "metadata": {},
   "outputs": [],
   "source": [
    "import matplotlib.pyplot as plt"
   ]
  },
  {
   "cell_type": "code",
   "execution_count": 3,
   "id": "objective-northern",
   "metadata": {},
   "outputs": [],
   "source": [
    "%matplotlib inline"
   ]
  },
  {
   "cell_type": "code",
   "execution_count": 4,
   "id": "roman-ceiling",
   "metadata": {},
   "outputs": [],
   "source": [
    "import scipy \n",
    "import scipy.linalg  "
   ]
  },
  {
   "cell_type": "code",
   "execution_count": 5,
   "id": "textile-swaziland",
   "metadata": {},
   "outputs": [],
   "source": [
    "from pylab import *\n",
    "from mpl_toolkits.mplot3d import Axes3D"
   ]
  },
  {
   "cell_type": "markdown",
   "id": "passive-bacon",
   "metadata": {},
   "source": [
    "### Домашнее задание 6"
   ]
  },
  {
   "cell_type": "markdown",
   "id": "shared-education",
   "metadata": {},
   "source": [
    "**1.** Решите линейную систему:  \n",
    "np.matrix([[1, 2, 3],[4, 0, 6],[7, 8, 9]]) * X = np.array([12, 2, 1])"
   ]
  },
  {
   "cell_type": "markdown",
   "id": "amateur-religious",
   "metadata": {},
   "source": [
    "**Решение**"
   ]
  },
  {
   "cell_type": "code",
   "execution_count": 6,
   "id": "quick-stupid",
   "metadata": {},
   "outputs": [
    {
     "data": {
      "text/plain": [
       "matrix([[1, 2, 3],\n",
       "        [4, 0, 6],\n",
       "        [7, 8, 9]])"
      ]
     },
     "execution_count": 6,
     "metadata": {},
     "output_type": "execute_result"
    }
   ],
   "source": [
    "m1 = np.matrix([[1, 2, 3],[4, 0, 6],[7, 8, 9]]) \n",
    "v1 = np.array([12, 2, 1])\n",
    "m1"
   ]
  },
  {
   "cell_type": "code",
   "execution_count": 7,
   "id": "decreased-arlington",
   "metadata": {},
   "outputs": [
    {
     "data": {
      "text/plain": [
       "array([12,  2,  1])"
      ]
     },
     "execution_count": 7,
     "metadata": {},
     "output_type": "execute_result"
    }
   ],
   "source": [
    "v1"
   ]
  },
  {
   "cell_type": "code",
   "execution_count": 8,
   "id": "biological-aircraft",
   "metadata": {
    "scrolled": true
   },
   "outputs": [
    {
     "data": {
      "text/plain": [
       "array([-9.2       ,  0.9       ,  6.46666667])"
      ]
     },
     "execution_count": 8,
     "metadata": {},
     "output_type": "execute_result"
    }
   ],
   "source": [
    "np.linalg.solve(m1, v1)"
   ]
  },
  {
   "cell_type": "markdown",
   "id": "pointed-tunisia",
   "metadata": {},
   "source": [
    "**Проверка**"
   ]
  },
  {
   "cell_type": "code",
   "execution_count": 9,
   "id": "advised-expansion",
   "metadata": {},
   "outputs": [
    {
     "data": {
      "text/plain": [
       "matrix([[12.00000001,  2.00000002,  1.00000003]])"
      ]
     },
     "execution_count": 9,
     "metadata": {},
     "output_type": "execute_result"
    }
   ],
   "source": [
    "m1.dot([-9.2       ,  0.9       ,  6.46666667])"
   ]
  },
  {
   "cell_type": "markdown",
   "id": "exceptional-amino",
   "metadata": {},
   "source": [
    "***********************************************"
   ]
  },
  {
   "cell_type": "markdown",
   "id": "australian-nutrition",
   "metadata": {},
   "source": [
    "**2.** Найдите псевдорешение:  \n",
    "  \n",
    "x + 2y – z = 1  \n",
    "3x – 4y = 7  \n",
    "8x – 5y + 2z = 12  \n",
    "2x – 5z = 7  \n",
    "11x +4y – 7z = 15   "
   ]
  },
  {
   "cell_type": "markdown",
   "id": "removable-drove",
   "metadata": {},
   "source": [
    "**Решение**"
   ]
  },
  {
   "cell_type": "code",
   "execution_count": 10,
   "id": "incoming-agent",
   "metadata": {},
   "outputs": [
    {
     "data": {
      "text/plain": [
       "matrix([[ 1,  2, -1],\n",
       "        [ 3, -4,  0],\n",
       "        [ 8, -5,  2],\n",
       "        [ 2,  0, -5],\n",
       "        [11,  4, -7]])"
      ]
     },
     "execution_count": 10,
     "metadata": {},
     "output_type": "execute_result"
    }
   ],
   "source": [
    "m2 = np.matrix([[1, 2, -1], [3, -4, 0], [8, -5, 2], [2, 0, -5], [11, 4, -7]])\n",
    "v2 = np.array([1, 7, 12, 7, 15])\n",
    "m2"
   ]
  },
  {
   "cell_type": "code",
   "execution_count": 11,
   "id": "labeled-plasma",
   "metadata": {},
   "outputs": [
    {
     "data": {
      "text/plain": [
       "array([ 1,  7, 12,  7, 15])"
      ]
     },
     "execution_count": 11,
     "metadata": {},
     "output_type": "execute_result"
    }
   ],
   "source": [
    "v2"
   ]
  },
  {
   "cell_type": "code",
   "execution_count": 12,
   "id": "foreign-youth",
   "metadata": {
    "scrolled": false
   },
   "outputs": [
    {
     "name": "stderr",
     "output_type": "stream",
     "text": [
      "<ipython-input-12-a7b86cd534cc>:1: FutureWarning: `rcond` parameter will change to the default of machine precision times ``max(M, N)`` where M and N are the input matrix dimensions.\n",
      "To use the future default and silence this warning we advise to pass `rcond=None`, to keep using the old, explicitly pass `rcond=-1`.\n",
      "  np.linalg.lstsq(m2, v2)\n"
     ]
    },
    {
     "data": {
      "text/plain": [
       "(array([ 1.13919353, -0.90498444, -0.9009803 ]),\n",
       " array([0.71523211]),\n",
       " 3,\n",
       " array([15.2817306 ,  9.59852942,  3.65197794]))"
      ]
     },
     "execution_count": 12,
     "metadata": {},
     "output_type": "execute_result"
    }
   ],
   "source": [
    "np.linalg.lstsq(m2, v2)"
   ]
  },
  {
   "cell_type": "markdown",
   "id": "reliable-species",
   "metadata": {},
   "source": [
    "***************************************************"
   ]
  },
  {
   "cell_type": "markdown",
   "id": "liberal-sodium",
   "metadata": {},
   "source": [
    "**3.** Сколько решений имеет линейная система:  \n",
    "    np.matrix([[1, 2, 3],[4, 5, 6],[7, 8, 9]]) * X = np.array([12, 2, 1])  \n",
    "    Если ноль – то измените вектор правой части так, чтобы система стала совместной, и решите ее. "
   ]
  },
  {
   "cell_type": "markdown",
   "id": "technological-moral",
   "metadata": {},
   "source": [
    "**Решение**"
   ]
  },
  {
   "cell_type": "code",
   "execution_count": 13,
   "id": "original-sleeping",
   "metadata": {},
   "outputs": [],
   "source": [
    "m3 = np.matrix([[1, 2, 3], [4, 5, 6], [7, 8, 9]])\n",
    "v3 = np.array([12, 2, 1])"
   ]
  },
  {
   "cell_type": "code",
   "execution_count": 14,
   "id": "expanded-theta",
   "metadata": {
    "scrolled": false
   },
   "outputs": [
    {
     "data": {
      "text/plain": [
       "matrix([[1, 2, 3],\n",
       "        [4, 5, 6],\n",
       "        [7, 8, 9]])"
      ]
     },
     "execution_count": 14,
     "metadata": {},
     "output_type": "execute_result"
    }
   ],
   "source": [
    "m3"
   ]
  },
  {
   "cell_type": "code",
   "execution_count": 15,
   "id": "varying-chance",
   "metadata": {},
   "outputs": [
    {
     "data": {
      "text/plain": [
       "array([12,  2,  1])"
      ]
     },
     "execution_count": 15,
     "metadata": {},
     "output_type": "execute_result"
    }
   ],
   "source": [
    "v3"
   ]
  },
  {
   "cell_type": "code",
   "execution_count": 16,
   "id": "fourth-hacker",
   "metadata": {},
   "outputs": [
    {
     "data": {
      "text/plain": [
       "0.0"
      ]
     },
     "execution_count": 16,
     "metadata": {},
     "output_type": "execute_result"
    }
   ],
   "source": [
    "det = np.linalg.det(m3)\n",
    "det"
   ]
  },
  {
   "cell_type": "markdown",
   "id": "covered-spray",
   "metadata": {},
   "source": [
    "Матрица m3 имеет высокую корреляцию данных между строками.\n",
    "Определитель для данной матрицы равен 0."
   ]
  },
  {
   "cell_type": "code",
   "execution_count": 17,
   "id": "limited-scottish",
   "metadata": {
    "scrolled": true
   },
   "outputs": [
    {
     "name": "stderr",
     "output_type": "stream",
     "text": [
      "<ipython-input-17-96adc4abb062>:1: FutureWarning: `rcond` parameter will change to the default of machine precision times ``max(M, N)`` where M and N are the input matrix dimensions.\n",
      "To use the future default and silence this warning we advise to pass `rcond=None`, to keep using the old, explicitly pass `rcond=-1`.\n",
      "  X = np.linalg.lstsq(m3, v3)\n"
     ]
    }
   ],
   "source": [
    "X = np.linalg.lstsq(m3, v3)"
   ]
  },
  {
   "cell_type": "code",
   "execution_count": 18,
   "id": "eleven-walnut",
   "metadata": {
    "scrolled": true
   },
   "outputs": [
    {
     "data": {
      "text/plain": [
       "(array([-7.69444444, -0.61111111,  6.47222222]),\n",
       " array([], dtype=float64),\n",
       " 2,\n",
       " array([1.68481034e+01, 1.06836951e+00, 1.47280825e-16]))"
      ]
     },
     "execution_count": 18,
     "metadata": {},
     "output_type": "execute_result"
    }
   ],
   "source": [
    "X"
   ]
  },
  {
   "cell_type": "markdown",
   "id": "stopped-pitch",
   "metadata": {},
   "source": [
    "**Проверка псевдорешения**"
   ]
  },
  {
   "cell_type": "code",
   "execution_count": 19,
   "id": "behavioral-heath",
   "metadata": {},
   "outputs": [
    {
     "data": {
      "text/plain": [
       "matrix([[-1.5,  3. , -1.5]])"
      ]
     },
     "execution_count": 19,
     "metadata": {},
     "output_type": "execute_result"
    }
   ],
   "source": [
    "m3.dot(X[0])-v3"
   ]
  },
  {
   "cell_type": "markdown",
   "id": "infectious-hunter",
   "metadata": {},
   "source": [
    "В текущем варианте система имеет только псевдо решения"
   ]
  },
  {
   "cell_type": "code",
   "execution_count": 20,
   "id": "czech-variety",
   "metadata": {},
   "outputs": [],
   "source": [
    "m3_1 = np.array([[1, 2, 3], [4, 5, 6], [7, 8, 9]])"
   ]
  },
  {
   "cell_type": "code",
   "execution_count": 21,
   "id": "aboriginal-banks",
   "metadata": {},
   "outputs": [],
   "source": [
    "v3_1 = np.array([12, 2, 1])"
   ]
  },
  {
   "cell_type": "code",
   "execution_count": 22,
   "id": "improved-survival",
   "metadata": {},
   "outputs": [
    {
     "data": {
      "text/plain": [
       "array([[ 1,  2,  3, 12],\n",
       "       [ 4,  5,  6,  2],\n",
       "       [ 7,  8,  9,  1]])"
      ]
     },
     "execution_count": 22,
     "metadata": {},
     "output_type": "execute_result"
    }
   ],
   "source": [
    "e1 = np.array([[1, 2, 3, 12], [4, 5, 6, 2], [7, 8, 9, 1]])\n",
    "e1"
   ]
  },
  {
   "cell_type": "code",
   "execution_count": 23,
   "id": "latter-screening",
   "metadata": {},
   "outputs": [
    {
     "data": {
      "text/plain": [
       "(2, 3)"
      ]
     },
     "execution_count": 23,
     "metadata": {},
     "output_type": "execute_result"
    }
   ],
   "source": [
    "np.linalg.matrix_rank(m3_1, 0.0001), np.linalg.matrix_rank(e1, 0.0001)"
   ]
  },
  {
   "cell_type": "markdown",
   "id": "clinical-portrait",
   "metadata": {},
   "source": [
    "Т.к. ранги исходной и расширенной матриц не совпадают, система не имеет решений."
   ]
  },
  {
   "cell_type": "markdown",
   "id": "informational-thursday",
   "metadata": {},
   "source": [
    "Изменим правую часть, чтобы ранг расширенной матрицы совпадал с рангом исходной."
   ]
  },
  {
   "cell_type": "code",
   "execution_count": 24,
   "id": "reflected-tackle",
   "metadata": {},
   "outputs": [],
   "source": [
    "m3_2 = np.matrix([[1, 2, 3], [4, 5, 6], [7, 8, 9]])"
   ]
  },
  {
   "cell_type": "code",
   "execution_count": 25,
   "id": "given-tiffany",
   "metadata": {},
   "outputs": [],
   "source": [
    "v3_2 = np.array([8, 20, 32])"
   ]
  },
  {
   "cell_type": "code",
   "execution_count": 26,
   "id": "presidential-inspection",
   "metadata": {},
   "outputs": [
    {
     "data": {
      "text/plain": [
       "matrix([[ 1,  2,  3,  8],\n",
       "        [ 4,  5,  6, 20],\n",
       "        [ 7,  8,  9, 32]])"
      ]
     },
     "execution_count": 26,
     "metadata": {},
     "output_type": "execute_result"
    }
   ],
   "source": [
    "e2 = np.hstack((m3_2, np.split(v3_2, 3)))\n",
    "e2"
   ]
  },
  {
   "cell_type": "code",
   "execution_count": 27,
   "id": "respiratory-diabetes",
   "metadata": {
    "scrolled": false
   },
   "outputs": [
    {
     "data": {
      "text/plain": [
       "2"
      ]
     },
     "execution_count": 27,
     "metadata": {},
     "output_type": "execute_result"
    }
   ],
   "source": [
    "np.linalg.matrix_rank(e2, 0.0001)"
   ]
  },
  {
   "cell_type": "markdown",
   "id": "incoming-casino",
   "metadata": {},
   "source": [
    "Т.к. количество неизвестных больше ранга матрицы, система имеет решение"
   ]
  },
  {
   "cell_type": "code",
   "execution_count": 28,
   "id": "comic-display",
   "metadata": {
    "scrolled": false
   },
   "outputs": [
    {
     "name": "stderr",
     "output_type": "stream",
     "text": [
      "<ipython-input-28-a06385b0ede3>:1: FutureWarning: `rcond` parameter will change to the default of machine precision times ``max(M, N)`` where M and N are the input matrix dimensions.\n",
      "To use the future default and silence this warning we advise to pass `rcond=None`, to keep using the old, explicitly pass `rcond=-1`.\n",
      "  X = np.linalg.lstsq(m3_2, v3_2)\n"
     ]
    }
   ],
   "source": [
    "X = np.linalg.lstsq(m3_2, v3_2)"
   ]
  },
  {
   "cell_type": "markdown",
   "id": "trained-amazon",
   "metadata": {},
   "source": [
    "**Ответ**"
   ]
  },
  {
   "cell_type": "code",
   "execution_count": 29,
   "id": "proved-vertical",
   "metadata": {},
   "outputs": [
    {
     "data": {
      "text/plain": [
       "array([1.33333333, 1.33333333, 1.33333333])"
      ]
     },
     "execution_count": 29,
     "metadata": {},
     "output_type": "execute_result"
    }
   ],
   "source": [
    "X[0]"
   ]
  },
  {
   "cell_type": "markdown",
   "id": "classified-christian",
   "metadata": {},
   "source": [
    "******************************************"
   ]
  },
  {
   "cell_type": "markdown",
   "id": "billion-briefs",
   "metadata": {},
   "source": [
    "**4.**   \n",
    "Вычислите LU-разложение матрицы:\n",
    "    np.matrix([[1, 2, 3],[2, 16, 21],[4, 28, 73]]) "
   ]
  },
  {
   "cell_type": "markdown",
   "id": "offshore-positive",
   "metadata": {},
   "source": [
    "**Решение**"
   ]
  },
  {
   "cell_type": "code",
   "execution_count": 30,
   "id": "generous-philadelphia",
   "metadata": {},
   "outputs": [],
   "source": [
    "A = np.matrix([[1, 2, 3],[2, 16, 21],[4, 28, 73]]) \n",
    "P, L, U = scipy.linalg.lu(A)"
   ]
  },
  {
   "cell_type": "code",
   "execution_count": 31,
   "id": "wrong-state",
   "metadata": {},
   "outputs": [
    {
     "name": "stdout",
     "output_type": "stream",
     "text": [
      "[[0. 1. 0.]\n",
      " [0. 0. 1.]\n",
      " [1. 0. 0.]]\n"
     ]
    }
   ],
   "source": [
    "print(P)"
   ]
  },
  {
   "cell_type": "code",
   "execution_count": 32,
   "id": "exceptional-blink",
   "metadata": {},
   "outputs": [
    {
     "name": "stdout",
     "output_type": "stream",
     "text": [
      "[[ 1.    0.    0.  ]\n",
      " [ 0.25  1.    0.  ]\n",
      " [ 0.5  -0.4   1.  ]]\n"
     ]
    }
   ],
   "source": [
    "print(L)"
   ]
  },
  {
   "cell_type": "code",
   "execution_count": 33,
   "id": "embedded-rough",
   "metadata": {
    "scrolled": false
   },
   "outputs": [
    {
     "name": "stdout",
     "output_type": "stream",
     "text": [
      "[[  4.    28.    73.  ]\n",
      " [  0.    -5.   -15.25]\n",
      " [  0.     0.   -21.6 ]]\n"
     ]
    }
   ],
   "source": [
    "print(U)"
   ]
  },
  {
   "cell_type": "code",
   "execution_count": 34,
   "id": "elegant-audience",
   "metadata": {
    "scrolled": true
   },
   "outputs": [
    {
     "data": {
      "text/plain": [
       "matrix([[ 2., 16., 21.],\n",
       "        [ 4., 28., 73.],\n",
       "        [ 1.,  2.,  3.]])"
      ]
     },
     "execution_count": 34,
     "metadata": {},
     "output_type": "execute_result"
    }
   ],
   "source": [
    "P.dot(A)"
   ]
  },
  {
   "cell_type": "code",
   "execution_count": 35,
   "id": "interior-welsh",
   "metadata": {},
   "outputs": [
    {
     "data": {
      "text/plain": [
       "array([[ 4., 28., 73.],\n",
       "       [ 1.,  2.,  3.],\n",
       "       [ 2., 16., 21.]])"
      ]
     },
     "execution_count": 35,
     "metadata": {},
     "output_type": "execute_result"
    }
   ],
   "source": [
    "L.dot(U)"
   ]
  },
  {
   "cell_type": "markdown",
   "id": "optimum-sheep",
   "metadata": {},
   "source": [
    "Получившиеся матрицы эквиваленты. Отличаются только порядком строк."
   ]
  },
  {
   "cell_type": "code",
   "execution_count": 36,
   "id": "generic-start",
   "metadata": {},
   "outputs": [],
   "source": [
    "v4=np.array([-41, 0, -3])"
   ]
  },
  {
   "cell_type": "code",
   "execution_count": 37,
   "id": "intensive-found",
   "metadata": {},
   "outputs": [
    {
     "data": {
      "text/plain": [
       "array([-55.00462963,   5.98842593,   0.67592593])"
      ]
     },
     "execution_count": 37,
     "metadata": {},
     "output_type": "execute_result"
    }
   ],
   "source": [
    "np.linalg.solve(A, v4)"
   ]
  },
  {
   "cell_type": "markdown",
   "id": "sought-suffering",
   "metadata": {},
   "source": [
    "******************************************************"
   ]
  },
  {
   "cell_type": "markdown",
   "id": "specialized-timer",
   "metadata": {},
   "source": [
    "**5.** Найдите нормальное псевдорешение недоопределенной системы:  \n",
    "x + 2y – z = 1   \n",
    "8x – 5y + 2z = 12  \n",
    "Для этого определите функцию Q(x,y,z), равную норме решения, и найдите ее минимум.   \n"
   ]
  },
  {
   "cell_type": "markdown",
   "id": "bacterial-helping",
   "metadata": {},
   "source": [
    "**Решение**"
   ]
  },
  {
   "cell_type": "code",
   "execution_count": 38,
   "id": "passing-supplier",
   "metadata": {},
   "outputs": [],
   "source": [
    "m5 = np.matrix([[1, 2, -1], [8, -5, 2]])\n",
    "v5 = np.array([1, 12])"
   ]
  },
  {
   "cell_type": "code",
   "execution_count": 39,
   "id": "unable-platinum",
   "metadata": {},
   "outputs": [
    {
     "data": {
      "text/plain": [
       "matrix([[ 1,  2, -1],\n",
       "        [ 8, -5,  2]])"
      ]
     },
     "execution_count": 39,
     "metadata": {},
     "output_type": "execute_result"
    }
   ],
   "source": [
    "m5"
   ]
  },
  {
   "cell_type": "code",
   "execution_count": 40,
   "id": "eastern-nitrogen",
   "metadata": {},
   "outputs": [
    {
     "data": {
      "text/plain": [
       "array([ 1, 12])"
      ]
     },
     "execution_count": 40,
     "metadata": {},
     "output_type": "execute_result"
    }
   ],
   "source": [
    "v5"
   ]
  },
  {
   "cell_type": "markdown",
   "id": "norman-karen",
   "metadata": {},
   "source": [
    "Функция Q равная норма решения"
   ]
  },
  {
   "cell_type": "code",
   "execution_count": 47,
   "id": "bizarre-swiss",
   "metadata": {},
   "outputs": [],
   "source": [
    "def Q(x, y, z):\n",
    "    return (x**2 + y**2 + z**2)"
   ]
  },
  {
   "cell_type": "markdown",
   "id": "straight-cliff",
   "metadata": {},
   "source": [
    "Построим график"
   ]
  },
  {
   "cell_type": "code",
   "execution_count": 49,
   "id": "handed-worry",
   "metadata": {},
   "outputs": [
    {
     "data": {
      "image/png": "[encoded data removed]",
      "text/plain": [
       "<Figure size 432x288 with 1 Axes>"
      ]
     },
     "metadata": {
      "needs_background": "light"
     },
     "output_type": "display_data"
    }
   ],
   "source": [
    "fig = figure()\n",
    "ax = Axes3D(fig)\n",
    "X = np.arange(-50, 50, 1)\n",
    "Y = np.arange(-50, 50, 1)\n",
    "X, Y = np.meshgrid(X, Y)\n",
    "ax.plot_surface(X, Y, Q(X, 10*X - 14, 11*X - 15))\n",
    "show()"
   ]
  },
  {
   "cell_type": "markdown",
   "id": "authorized-aside",
   "metadata": {},
   "source": [
    "**Ответ**"
   ]
  },
  {
   "cell_type": "code",
   "execution_count": 158,
   "id": "permanent-hundred",
   "metadata": {
    "scrolled": true
   },
   "outputs": [
    {
     "name": "stderr",
     "output_type": "stream",
     "text": [
      "<ipython-input-158-3e7bf5796740>:1: FutureWarning: `rcond` parameter will change to the default of machine precision times ``max(M, N)`` where M and N are the input matrix dimensions.\n",
      "To use the future default and silence this warning we advise to pass `rcond=None`, to keep using the old, explicitly pass `rcond=-1`.\n",
      "  np.linalg.lstsq(m5, v5)\n"
     ]
    },
    {
     "data": {
      "text/plain": [
       "(array([ 1.38191882, -0.18081181,  0.0202952 ]),\n",
       " array([], dtype=float64),\n",
       " 2,\n",
       " array([9.65316119, 2.41173777]))"
      ]
     },
     "execution_count": 158,
     "metadata": {},
     "output_type": "execute_result"
    }
   ],
   "source": [
    "np.linalg.lstsq(m5, v5)"
   ]
  },
  {
   "cell_type": "markdown",
   "id": "optical-skating",
   "metadata": {},
   "source": [
    "---------------------------------------------"
   ]
  },
  {
   "cell_type": "markdown",
   "id": "compatible-durham",
   "metadata": {},
   "source": [
    "**6.**  \n",
    "Найдите одно из псевдорешений вырожденной системы:\n",
    "np.matrix([[1, 2, 3],[4, 5, 6],[7, 8, 9]]) * X = np.array([2, 5, 11])  \n",
    "Попробуйте также отыскать и нормальное псевдорешение."
   ]
  },
  {
   "cell_type": "markdown",
   "id": "graduate-progressive",
   "metadata": {},
   "source": [
    "Определитель для матрицы в левой части равен нулю."
   ]
  },
  {
   "cell_type": "markdown",
   "id": "antique-marathon",
   "metadata": {},
   "source": [
    "**Решение**"
   ]
  },
  {
   "cell_type": "markdown",
   "id": "appreciated-marsh",
   "metadata": {},
   "source": [
    "Используем QR разложение"
   ]
  },
  {
   "cell_type": "markdown",
   "id": "turned-lover",
   "metadata": {},
   "source": [
    "m6 * X = v6"
   ]
  },
  {
   "cell_type": "code",
   "execution_count": 70,
   "id": "valued-building",
   "metadata": {},
   "outputs": [],
   "source": [
    "m6 = np.array([[1, 2, 3],[4, 5, 6],[7, 8, 9]])"
   ]
  },
  {
   "cell_type": "code",
   "execution_count": 71,
   "id": "whole-strengthening",
   "metadata": {},
   "outputs": [],
   "source": [
    "v6 = np.array([2, 5, 11]) "
   ]
  },
  {
   "cell_type": "code",
   "execution_count": 72,
   "id": "paperback-montreal",
   "metadata": {},
   "outputs": [],
   "source": [
    "Q, R = np.linalg.qr(m6)"
   ]
  },
  {
   "cell_type": "code",
   "execution_count": 73,
   "id": "smart-utility",
   "metadata": {},
   "outputs": [
    {
     "name": "stdout",
     "output_type": "stream",
     "text": [
      "[[1 2 3]\n",
      " [4 5 6]\n",
      " [7 8 9]]\n"
     ]
    }
   ],
   "source": [
    "print(m6)"
   ]
  },
  {
   "cell_type": "code",
   "execution_count": 74,
   "id": "static-stretch",
   "metadata": {},
   "outputs": [
    {
     "name": "stdout",
     "output_type": "stream",
     "text": [
      "[[-0.12309149  0.90453403  0.40824829]\n",
      " [-0.49236596  0.30151134 -0.81649658]\n",
      " [-0.86164044 -0.30151134  0.40824829]]\n"
     ]
    }
   ],
   "source": [
    "print(Q)"
   ]
  },
  {
   "cell_type": "code",
   "execution_count": 75,
   "id": "terminal-portfolio",
   "metadata": {
    "scrolled": true
   },
   "outputs": [
    {
     "name": "stdout",
     "output_type": "stream",
     "text": [
      "[[ -8.1240384   -9.6011363  -11.07823419]\n",
      " [  0.           0.90453403   1.80906807]\n",
      " [  0.           0.           0.        ]]\n"
     ]
    }
   ],
   "source": [
    "print(R)"
   ]
  },
  {
   "cell_type": "code",
   "execution_count": 76,
   "id": "brave-memorabilia",
   "metadata": {
    "scrolled": true
   },
   "outputs": [
    {
     "name": "stdout",
     "output_type": "stream",
     "text": [
      "[[1. 2. 3.]\n",
      " [4. 5. 6.]\n",
      " [7. 8. 9.]]\n"
     ]
    }
   ],
   "source": [
    "# Проверка разложения\n",
    "print(np.dot(Q, R))"
   ]
  },
  {
   "cell_type": "code",
   "execution_count": 77,
   "id": "gentle-surname",
   "metadata": {},
   "outputs": [
    {
     "name": "stdout",
     "output_type": "stream",
     "text": [
      "[[ 1.00000000e+00 -1.66533454e-16 -5.55111512e-17]\n",
      " [-1.66533454e-16  1.00000000e+00 -2.77555756e-16]\n",
      " [-5.55111512e-17 -2.77555756e-16  1.00000000e+00]]\n"
     ]
    }
   ],
   "source": [
    "print(np.dot(np.transpose(Q), Q))"
   ]
  },
  {
   "cell_type": "code",
   "execution_count": 78,
   "id": "resident-friend",
   "metadata": {},
   "outputs": [
    {
     "data": {
      "text/plain": [
       "array([[-8.1240384 , -9.6011363 ],\n",
       "       [ 0.        ,  0.90453403]])"
      ]
     },
     "execution_count": 78,
     "metadata": {},
     "output_type": "execute_result"
    }
   ],
   "source": [
    "R1 = R[:2, :2]\n",
    "R1"
   ]
  },
  {
   "cell_type": "code",
   "execution_count": 79,
   "id": "southwest-yukon",
   "metadata": {
    "scrolled": true
   },
   "outputs": [
    {
     "name": "stdout",
     "output_type": "stream",
     "text": [
      "[-1.21860576e+01  1.33226763e-15]\n"
     ]
    }
   ],
   "source": [
    "B1 = np.dot(np.transpose(Q), v6)[:2]\n",
    "print(B1)"
   ]
  },
  {
   "cell_type": "markdown",
   "id": "neural-chest",
   "metadata": {},
   "source": [
    "Решение системы с обновленной матрицей"
   ]
  },
  {
   "cell_type": "code",
   "execution_count": 80,
   "id": "blond-magnet",
   "metadata": {},
   "outputs": [],
   "source": [
    "X1 = np.linalg.solve(R1, B1)"
   ]
  },
  {
   "cell_type": "code",
   "execution_count": 81,
   "id": "amazing-maldives",
   "metadata": {},
   "outputs": [
    {
     "name": "stdout",
     "output_type": "stream",
     "text": [
      "[1.50000000e+00 1.47287728e-15]\n"
     ]
    }
   ],
   "source": [
    "print(X1)"
   ]
  },
  {
   "cell_type": "code",
   "execution_count": 82,
   "id": "weighted-humidity",
   "metadata": {},
   "outputs": [
    {
     "name": "stdout",
     "output_type": "stream",
     "text": [
      "[1.50000000e+00 1.47287728e-15 0.00000000e+00]\n"
     ]
    }
   ],
   "source": [
    "# вектор решения\n",
    "X = np.append(X1, 0)\n",
    "print (X)"
   ]
  },
  {
   "cell_type": "code",
   "execution_count": 83,
   "id": "cellular-robertson",
   "metadata": {
    "scrolled": true
   },
   "outputs": [
    {
     "data": {
      "text/plain": [
       "1.499999999999999"
      ]
     },
     "execution_count": 83,
     "metadata": {},
     "output_type": "execute_result"
    }
   ],
   "source": [
    "np.linalg.norm(X)"
   ]
  },
  {
   "cell_type": "markdown",
   "id": "designing-glasgow",
   "metadata": {},
   "source": [
    "Ошибка:"
   ]
  },
  {
   "cell_type": "code",
   "execution_count": 85,
   "id": "funny-chassis",
   "metadata": {},
   "outputs": [
    {
     "data": {
      "text/plain": [
       "5.408326913195943"
      ]
     },
     "execution_count": 85,
     "metadata": {},
     "output_type": "execute_result"
    }
   ],
   "source": [
    "np.linalg.norm(np.dot(A, X) - v6)"
   ]
  },
  {
   "cell_type": "markdown",
   "id": "preliminary-coast",
   "metadata": {},
   "source": [
    "**Нормальное псевдорешение**"
   ]
  },
  {
   "cell_type": "code",
   "execution_count": 44,
   "id": "reliable-evidence",
   "metadata": {},
   "outputs": [
    {
     "name": "stderr",
     "output_type": "stream",
     "text": [
      "<ipython-input-44-376cc412c299>:1: FutureWarning: `rcond` parameter will change to the default of machine precision times ``max(M, N)`` where M and N are the input matrix dimensions.\n",
      "To use the future default and silence this warning we advise to pass `rcond=None`, to keep using the old, explicitly pass `rcond=-1`.\n",
      "  np.linalg.lstsq(m6, v6)\n"
     ]
    },
    {
     "data": {
      "text/plain": [
       "(array([ 1.25,  0.5 , -0.25]),\n",
       " array([], dtype=float64),\n",
       " 2,\n",
       " array([1.68481034e+01, 1.06836951e+00, 1.47280825e-16]))"
      ]
     },
     "execution_count": 44,
     "metadata": {},
     "output_type": "execute_result"
    }
   ],
   "source": [
    "np.linalg.lstsq(m6, v6)"
   ]
  }
 ],
 "metadata": {
  "kernelspec": {
   "display_name": "Python 3",
   "language": "python",
   "name": "python3"
  },
  "language_info": {
   "codemirror_mode": {
    "name": "ipython",
    "version": 3
   },
   "file_extension": ".py",
   "mimetype": "text/x-python",
   "name": "python",
   "nbconvert_exporter": "python",
   "pygments_lexer": "ipython3",
   "version": "3.9.1"
  }
 },
 "nbformat": 4,
 "nbformat_minor": 5
}
