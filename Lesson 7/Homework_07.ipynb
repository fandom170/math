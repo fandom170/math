{
 "cells": [
  {
   "cell_type": "code",
   "execution_count": 1,
   "id": "green-variable",
   "metadata": {},
   "outputs": [],
   "source": [
    "import numpy as np"
   ]
  },
  {
   "cell_type": "code",
   "execution_count": 80,
   "id": "adverse-baker",
   "metadata": {},
   "outputs": [],
   "source": [
    "import matplotlib.pyplot as plt"
   ]
  },
  {
   "cell_type": "code",
   "execution_count": 81,
   "id": "massive-ownership",
   "metadata": {},
   "outputs": [],
   "source": [
    "%matplotlib inline"
   ]
  },
  {
   "cell_type": "code",
   "execution_count": 114,
   "id": "laden-gasoline",
   "metadata": {},
   "outputs": [],
   "source": [
    "import scipy \n",
    "import scipy.linalg  "
   ]
  },
  {
   "cell_type": "code",
   "execution_count": 124,
   "id": "violent-clearance",
   "metadata": {},
   "outputs": [],
   "source": [
    "from pylab import *\n",
    "from mpl_toolkits.mplot3d import Axes3D"
   ]
  },
  {
   "cell_type": "markdown",
   "id": "advisory-chemical",
   "metadata": {},
   "source": [
    "### Домашнее задание 5"
   ]
  },
  {
   "cell_type": "markdown",
   "id": "after-luxury",
   "metadata": {},
   "source": [
    "**5.1.** \n",
    "Вектор – это частный случай матрицы 1хN и Nх1. Повторите материал для векторов, уделяя особое внимание умножению A∙B.  \n",
    "Вычислите, по возможности не используя программирование: (5E)-1 где Е – единичная матрица размера 5х5.  "
   ]
  },
  {
   "cell_type": "code",
   "execution_count": 8,
   "id": "brutal-health",
   "metadata": {
    "scrolled": true
   },
   "outputs": [
    {
     "data": {
      "text/plain": [
       "matrix([[1, 0, 0, 0, 0],\n",
       "        [0, 1, 0, 0, 0],\n",
       "        [0, 0, 1, 0, 0],\n",
       "        [0, 0, 0, 1, 0],\n",
       "        [0, 0, 0, 0, 1]])"
      ]
     },
     "execution_count": 8,
     "metadata": {},
     "output_type": "execute_result"
    }
   ],
   "source": [
    "z = np.matrix([[1,0, 0, 0, 0],[0, 1, 0, 0, 0],[0, 0, 1, 0, 0], [0, 0, 0, 1, 0], [0, 0, 0, 0, 1]])\n",
    "z"
   ]
  },
  {
   "cell_type": "code",
   "execution_count": 10,
   "id": "distant-architecture",
   "metadata": {
    "scrolled": true
   },
   "outputs": [
    {
     "data": {
      "text/plain": [
       "matrix([[5, 0, 0, 0, 0],\n",
       "        [0, 5, 0, 0, 0],\n",
       "        [0, 0, 5, 0, 0],\n",
       "        [0, 0, 0, 5, 0],\n",
       "        [0, 0, 0, 0, 5]])"
      ]
     },
     "execution_count": 10,
     "metadata": {},
     "output_type": "execute_result"
    }
   ],
   "source": [
    "#5 * E\n",
    "z = np.matrix([[5,0, 0, 0, 0],[0, 5, 0, 0, 0],[0, 0, 5, 0, 0], [0, 0, 0, 5, 0], [0, 0, 0, 0, 5]])\n",
    "z"
   ]
  },
  {
   "cell_type": "code",
   "execution_count": 19,
   "id": "selected-trading",
   "metadata": {},
   "outputs": [],
   "source": [
    "# (5*E)**-1\n",
    "# Т.к. матрица единичная, обратная матрица может быть тоже идиничной матрицей, но с величинами,обратными значениям в клетках основной матрцы.  \n",
    "# Единичная матрица умножена на 5, т.е. обратная матрица должна содержать значения 1/5\n",
    "\n",
    "z_inv = np.matrix([[1/5,0, 0, 0, 0],[0, 1/5, 0, 0, 0],[0, 0, 1/5, 0, 0], [0, 0, 0, 1/5, 0], [0, 0, 0, 0, 1/5]])"
   ]
  },
  {
   "cell_type": "code",
   "execution_count": 14,
   "id": "unnecessary-vitamin",
   "metadata": {},
   "outputs": [
    {
     "data": {
      "text/plain": [
       "matrix([[1., 0., 0., 0., 0.],\n",
       "        [0., 1., 0., 0., 0.],\n",
       "        [0., 0., 1., 0., 0.],\n",
       "        [0., 0., 0., 1., 0.],\n",
       "        [0., 0., 0., 0., 1.]])"
      ]
     },
     "execution_count": 14,
     "metadata": {},
     "output_type": "execute_result"
    }
   ],
   "source": [
    "# Проверка 1\n",
    "z_inv.dot(z)"
   ]
  },
  {
   "cell_type": "code",
   "execution_count": 15,
   "id": "white-digest",
   "metadata": {
    "scrolled": true
   },
   "outputs": [
    {
     "data": {
      "text/plain": [
       "matrix([[0.2, 0. , 0. , 0. , 0. ],\n",
       "        [0. , 0.2, 0. , 0. , 0. ],\n",
       "        [0. , 0. , 0.2, 0. , 0. ],\n",
       "        [0. , 0. , 0. , 0.2, 0. ],\n",
       "        [0. , 0. , 0. , 0. , 0.2]])"
      ]
     },
     "execution_count": 15,
     "metadata": {},
     "output_type": "execute_result"
    }
   ],
   "source": [
    "# проверка 2\n",
    "z0 = np.matrix([[1,0, 0, 0, 0],[0, 1, 0, 0, 0],[0, 0, 1, 0, 0], [0, 0, 0, 1, 0], [0, 0, 0, 0, 1]])\n",
    "z1 = np.linalg.inv(5 * z0)\n",
    "z1"
   ]
  },
  {
   "cell_type": "markdown",
   "id": "opening-courtesy",
   "metadata": {},
   "source": [
    "***************************************************************"
   ]
  },
  {
   "cell_type": "markdown",
   "id": "defined-lithuania",
   "metadata": {},
   "source": [
    "**5.2.**  \n",
    "Вычислите определитель:     "
   ]
  },
  {
   "cell_type": "code",
   "execution_count": 3,
   "id": "structural-albuquerque",
   "metadata": {},
   "outputs": [
    {
     "name": "stdout",
     "output_type": "stream",
     "text": [
      "[[1 2 3]\n",
      " [4 0 6]\n",
      " [7 8 9]]\n"
     ]
    }
   ],
   "source": [
    "a = np.matrix([[1, 2, 3],[4, 0, 6],[7, 8, 9]])\n",
    "print(a)"
   ]
  },
  {
   "cell_type": "code",
   "execution_count": 22,
   "id": "cultural-england",
   "metadata": {},
   "outputs": [
    {
     "data": {
      "text/plain": [
       "60"
      ]
     },
     "execution_count": 22,
     "metadata": {},
     "output_type": "execute_result"
    }
   ],
   "source": [
    "det_a = 1*(0*9-8*6) - 2*(4*9-7*6) + 3*(4*8-0*7)\n",
    "det_a"
   ]
  },
  {
   "cell_type": "code",
   "execution_count": 24,
   "id": "suspended-ghana",
   "metadata": {},
   "outputs": [
    {
     "data": {
      "text/plain": [
       "59.999999999999986"
      ]
     },
     "execution_count": 24,
     "metadata": {},
     "output_type": "execute_result"
    }
   ],
   "source": [
    "np.linalg.det(a)"
   ]
  },
  {
   "cell_type": "markdown",
   "id": "painful-kidney",
   "metadata": {},
   "source": [
    "******************************************************************"
   ]
  },
  {
   "cell_type": "markdown",
   "id": "premium-handle",
   "metadata": {},
   "source": [
    "**5.3.**\n",
    "1. Вычислите матрицу, обратную данной:  \n",
    "b = np.matrix([[1, 2, 3],[4, 0, 6],[7, 8, 9]])\n"
   ]
  },
  {
   "cell_type": "code",
   "execution_count": 43,
   "id": "distinguished-abraham",
   "metadata": {},
   "outputs": [
    {
     "data": {
      "text/plain": [
       "matrix([[1, 2, 3],\n",
       "        [4, 0, 6],\n",
       "        [7, 8, 9]])"
      ]
     },
     "execution_count": 43,
     "metadata": {},
     "output_type": "execute_result"
    }
   ],
   "source": [
    "b = np.matrix([[1, 2, 3],[4, 0, 6],[7, 8, 9]])\n",
    "b"
   ]
  },
  {
   "cell_type": "code",
   "execution_count": 44,
   "id": "upper-tuesday",
   "metadata": {},
   "outputs": [
    {
     "data": {
      "text/plain": [
       "60"
      ]
     },
     "execution_count": 44,
     "metadata": {},
     "output_type": "execute_result"
    }
   ],
   "source": [
    "det_b = 1*(0*9-8*6) - 2*(4*9-7*6) + 3*(4*8-0*7)\n",
    "det_b"
   ]
  },
  {
   "cell_type": "code",
   "execution_count": 62,
   "id": "controversial-procurement",
   "metadata": {},
   "outputs": [],
   "source": [
    "m00 = 0*9 - 6*8\n",
    "m01 = 4*9 - 7*6\n",
    "m02 = 4*8 - 7*0\n",
    "m10 = 2*9 - 8*3\n",
    "m11 = 1*9 - 3*7\n",
    "m12 = 1*8 - 2*7\n",
    "m20 = 2*6 - 0*3\n",
    "m21 = 1*6 - 4*3 \n",
    "m22 = 1*0 - 2*4"
   ]
  },
  {
   "cell_type": "code",
   "execution_count": 63,
   "id": "dirty-brazilian",
   "metadata": {
    "scrolled": true
   },
   "outputs": [
    {
     "data": {
      "text/plain": [
       "matrix([[-48,  -6,  32],\n",
       "        [ -6, -12,  -6],\n",
       "        [ 12,  -6,  -8]])"
      ]
     },
     "execution_count": 63,
     "metadata": {},
     "output_type": "execute_result"
    }
   ],
   "source": [
    "M = np.matrix([[m00, m01, m02],[m10, m11, m12],[m20, m21, m22]])\n",
    "M"
   ]
  },
  {
   "cell_type": "code",
   "execution_count": 64,
   "id": "strong-calcium",
   "metadata": {},
   "outputs": [
    {
     "data": {
      "text/plain": [
       "matrix([[-48,   6,  32],\n",
       "        [  6, -12,   6],\n",
       "        [ 12,   6,  -8]])"
      ]
     },
     "execution_count": 64,
     "metadata": {},
     "output_type": "execute_result"
    }
   ],
   "source": [
    "B = np.matrix([[m00, (-1)*m01, m02],[(-1)*m10, m11, (-1)*m12],[m20, (-1)*m21, m22]])\n",
    "B"
   ]
  },
  {
   "cell_type": "code",
   "execution_count": 65,
   "id": "professional-candle",
   "metadata": {},
   "outputs": [
    {
     "data": {
      "text/plain": [
       "matrix([[-48,   6,  12],\n",
       "        [  6, -12,   6],\n",
       "        [ 32,   6,  -8]])"
      ]
     },
     "execution_count": 65,
     "metadata": {},
     "output_type": "execute_result"
    }
   ],
   "source": [
    "B_T = np.matrix([[m00, (-1)*m10, m20],[(-1)*m01, m11, (-1)*m21],[m02, (-1)*m12, m22]])\n",
    "B_T"
   ]
  },
  {
   "cell_type": "code",
   "execution_count": 66,
   "id": "twenty-judges",
   "metadata": {},
   "outputs": [
    {
     "data": {
      "text/plain": [
       "matrix([[-0.8       ,  0.1       ,  0.2       ],\n",
       "        [ 0.1       , -0.2       ,  0.1       ],\n",
       "        [ 0.53333333,  0.1       , -0.13333333]])"
      ]
     },
     "execution_count": 66,
     "metadata": {},
     "output_type": "execute_result"
    }
   ],
   "source": [
    "b_minus = (1/det_b)*(B_T)\n",
    "b_minus"
   ]
  },
  {
   "cell_type": "code",
   "execution_count": 67,
   "id": "treated-hobby",
   "metadata": {},
   "outputs": [
    {
     "data": {
      "text/plain": [
       "matrix([[-0.8       ,  0.1       ,  0.2       ],\n",
       "        [ 0.1       , -0.2       ,  0.1       ],\n",
       "        [ 0.53333333,  0.1       , -0.13333333]])"
      ]
     },
     "execution_count": 67,
     "metadata": {},
     "output_type": "execute_result"
    }
   ],
   "source": [
    "# Проверка\n",
    "b_inv = np.linalg.inv(b)\n",
    "b_inv"
   ]
  },
  {
   "cell_type": "code",
   "execution_count": 68,
   "id": "concrete-priest",
   "metadata": {},
   "outputs": [
    {
     "data": {
      "text/plain": [
       "matrix([[ 1.0000000e+00,  0.0000000e+00,  0.0000000e+00],\n",
       "        [ 0.0000000e+00,  1.0000000e+00,  0.0000000e+00],\n",
       "        [-8.8817842e-16,  0.0000000e+00,  1.0000000e+00]])"
      ]
     },
     "execution_count": 68,
     "metadata": {},
     "output_type": "execute_result"
    }
   ],
   "source": [
    "# проверка 2\n",
    "b*b_minus"
   ]
  },
  {
   "cell_type": "markdown",
   "id": "chinese-austin",
   "metadata": {},
   "source": [
    "2. Приведите пример матрицы 4х4, ранг которой равен 1.  "
   ]
  },
  {
   "cell_type": "code",
   "execution_count": 74,
   "id": "million-broadcast",
   "metadata": {},
   "outputs": [
    {
     "data": {
      "text/plain": [
       "matrix([[1, 0, 0, 0],\n",
       "        [0, 0, 0, 0],\n",
       "        [0, 0, 0, 0],\n",
       "        [0, 0, 0, 0]])"
      ]
     },
     "execution_count": 74,
     "metadata": {},
     "output_type": "execute_result"
    }
   ],
   "source": [
    "c = np.matrix([[1, 0, 0, 0], [0, 0, 0, 0], [0, 0, 0, 0], [0, 0, 0, 0]])\n",
    "c"
   ]
  },
  {
   "cell_type": "code",
   "execution_count": 77,
   "id": "composed-sheriff",
   "metadata": {
    "scrolled": true
   },
   "outputs": [
    {
     "data": {
      "text/plain": [
       "0.0"
      ]
     },
     "execution_count": 77,
     "metadata": {},
     "output_type": "execute_result"
    }
   ],
   "source": [
    "# определитель\n",
    "np.linalg.det(c)"
   ]
  },
  {
   "cell_type": "code",
   "execution_count": 78,
   "id": "embedded-amino",
   "metadata": {},
   "outputs": [
    {
     "data": {
      "text/plain": [
       "1"
      ]
     },
     "execution_count": 78,
     "metadata": {},
     "output_type": "execute_result"
    }
   ],
   "source": [
    "# ранг матрицы\n",
    "np.linalg.matrix_rank(c)"
   ]
  },
  {
   "cell_type": "markdown",
   "id": "fiscal-kingdom",
   "metadata": {},
   "source": [
    "**************************************************************"
   ]
  },
  {
   "cell_type": "markdown",
   "id": "special-plate",
   "metadata": {},
   "source": [
    "\n",
    "**5.4.**  \n",
    "Вычислите скалярное произведение двух векторов:  \n",
    "(1, 5)  и  (2, 8)\n"
   ]
  },
  {
   "cell_type": "code",
   "execution_count": 84,
   "id": "convinced-device",
   "metadata": {},
   "outputs": [
    {
     "data": {
      "text/plain": [
       "42"
      ]
     },
     "execution_count": 84,
     "metadata": {},
     "output_type": "execute_result"
    }
   ],
   "source": [
    "a_ = np.array([1,5])\n",
    "b_ = np.array([2,8])\n",
    "# c = a + b\n",
    "c = 1 * 2 + 5 * 8\n",
    "c"
   ]
  },
  {
   "cell_type": "code",
   "execution_count": 85,
   "id": "adopted-narrative",
   "metadata": {},
   "outputs": [
    {
     "data": {
      "text/plain": [
       "42"
      ]
     },
     "execution_count": 85,
     "metadata": {},
     "output_type": "execute_result"
    }
   ],
   "source": [
    "# проверка\n",
    "a_.dot(b_)"
   ]
  },
  {
   "cell_type": "code",
   "execution_count": 88,
   "id": "planned-korea",
   "metadata": {},
   "outputs": [
    {
     "data": {
      "text/plain": [
       "42"
      ]
     },
     "execution_count": 88,
     "metadata": {},
     "output_type": "execute_result"
    }
   ],
   "source": [
    "# проверка 2\n",
    "np.inner(a_, b_)"
   ]
  },
  {
   "cell_type": "markdown",
   "id": "wired-prophet",
   "metadata": {},
   "source": [
    "************************************************************"
   ]
  },
  {
   "cell_type": "markdown",
   "id": "promising-dining",
   "metadata": {},
   "source": [
    "**5.5**  \n",
    "(1, 5, 0), (2, 8, 7) и (7, 1.5, 3) Вычислите смешанное произведение трех векторов:"
   ]
  },
  {
   "cell_type": "code",
   "execution_count": 89,
   "id": "resistant-loading",
   "metadata": {},
   "outputs": [],
   "source": [
    "a_=np.array([1, 5, 0], float)\n",
    "b_=np.array([2, 8, 7], float)\n",
    "c_=np.array([7, 1.5, 3], float)"
   ]
  },
  {
   "cell_type": "code",
   "execution_count": 102,
   "id": "happy-championship",
   "metadata": {},
   "outputs": [
    {
     "data": {
      "image/png": "[encoded data removed]",
      "text/plain": [
       "<Figure size 432x288 with 1 Axes>"
      ]
     },
     "metadata": {
      "needs_background": "light"
     },
     "output_type": "display_data"
    }
   ],
   "source": [
    "U, V, W = np.array([a_[0], b_[0], c_[0]]), np.array([a_[1], b_[1], c_[1]]),np.array([a_[2], b_[2], c_[2]])\n",
    "X, Y, Z = np.array([0,0,0]), np.array([0,0,0]), np.array([0,0,0])\n",
    "\n",
    "fig = plt.figure()\n",
    "ax = fig.add_subplot(111, projection='3d')\n",
    "ax.quiver(X, Y, Z, U, V, W)\n",
    "ax.set_xlim([-1, 8])\n",
    "ax.set_ylim([0, 9])\n",
    "ax.set_zlim([-1, 8])\n",
    "plt.show()\n"
   ]
  },
  {
   "cell_type": "code",
   "execution_count": 97,
   "id": "endless-mitchell",
   "metadata": {},
   "outputs": [
    {
     "data": {
      "text/plain": [
       "array([35., -7., -2.])"
      ]
     },
     "execution_count": 97,
     "metadata": {},
     "output_type": "execute_result"
    }
   ],
   "source": [
    "np.cross(a_,b_)"
   ]
  },
  {
   "cell_type": "code",
   "execution_count": 109,
   "id": "medieval-spiritual",
   "metadata": {},
   "outputs": [
    {
     "data": {
      "text/plain": [
       "228.5"
      ]
     },
     "execution_count": 109,
     "metadata": {},
     "output_type": "execute_result"
    }
   ],
   "source": [
    "#смешанное произведение\n",
    "# (a_ x b_)*c_\n",
    "np.dot((np.cross(a_, b_)), c_)"
   ]
  },
  {
   "cell_type": "code",
   "execution_count": 108,
   "id": "noted-feeding",
   "metadata": {},
   "outputs": [
    {
     "data": {
      "text/plain": [
       "228.5"
      ]
     },
     "execution_count": 108,
     "metadata": {},
     "output_type": "execute_result"
    }
   ],
   "source": [
    "np.inner((np.cross(b_, c_)), a_)"
   ]
  },
  {
   "cell_type": "markdown",
   "id": "preceding-pulse",
   "metadata": {},
   "source": [
    "**********************************  \n",
    "**************************  \n",
    "************************* \n"
   ]
  },
  {
   "cell_type": "markdown",
   "id": "selected-candle",
   "metadata": {},
   "source": [
    "### Домашнее задание 6"
   ]
  },
  {
   "cell_type": "markdown",
   "id": "blind-entity",
   "metadata": {},
   "source": [
    "**1.** Решите линейную систему:  \n",
    "np.matrix([[1, 2, 3],[4, 0, 6],[7, 8, 9]]) * X = np.array([12, 2, 1])"
   ]
  },
  {
   "cell_type": "code",
   "execution_count": 110,
   "id": "precious-occasions",
   "metadata": {},
   "outputs": [],
   "source": [
    "m1 = np.matrix([[1, 2, 3],[4, 0, 6],[7, 8, 9]]) \n",
    "v1 = np.array([12, 2, 1])"
   ]
  },
  {
   "cell_type": "code",
   "execution_count": 111,
   "id": "christian-titanium",
   "metadata": {},
   "outputs": [
    {
     "data": {
      "text/plain": [
       "array([-9.2       ,  0.9       ,  6.46666667])"
      ]
     },
     "execution_count": 111,
     "metadata": {},
     "output_type": "execute_result"
    }
   ],
   "source": [
    "np.linalg.solve(m1, v1)"
   ]
  },
  {
   "cell_type": "markdown",
   "id": "indirect-bonus",
   "metadata": {},
   "source": [
    "***********************************************"
   ]
  },
  {
   "cell_type": "markdown",
   "id": "interim-terror",
   "metadata": {},
   "source": [
    "**2.** Найдите псевдорешение:  \n",
    "x + 2y – z = 1  \n",
    "3x – 4y = 7  \n",
    "8x – 5y + 2z = 12  \n",
    "2x – 5z = 7  \n",
    "11x +4y – 7z = 15   "
   ]
  },
  {
   "cell_type": "code",
   "execution_count": 119,
   "id": "legitimate-percentage",
   "metadata": {},
   "outputs": [],
   "source": [
    "m2 = np.matrix([[1, 2, -1], [3, -4, 0], [8, -5, 2], [2, 0, -5], [11, 4, -7]])\n",
    "v2 = np.array([1, 7, 12, 7, 15])"
   ]
  },
  {
   "cell_type": "code",
   "execution_count": 120,
   "id": "understood-sympathy",
   "metadata": {
    "scrolled": true
   },
   "outputs": [
    {
     "name": "stderr",
     "output_type": "stream",
     "text": [
      "<ipython-input-120-3b6ba01857be>:1: FutureWarning: `rcond` parameter will change to the default of machine precision times ``max(M, N)`` where M and N are the input matrix dimensions.\n",
      "To use the future default and silence this warning we advise to pass `rcond=None`, to keep using the old, explicitly pass `rcond=-1`.\n",
      "  np.linalg.lstsq(m2, v2)[0]\n"
     ]
    },
    {
     "data": {
      "text/plain": [
       "array([ 1.13919353, -0.90498444, -0.9009803 ])"
      ]
     },
     "execution_count": 120,
     "metadata": {},
     "output_type": "execute_result"
    }
   ],
   "source": [
    "np.linalg.lstsq(m2, v2)[0]"
   ]
  },
  {
   "cell_type": "markdown",
   "id": "modified-bruce",
   "metadata": {},
   "source": [
    "***************************************************"
   ]
  },
  {
   "cell_type": "markdown",
   "id": "professional-israeli",
   "metadata": {},
   "source": [
    "**3.** Сколько решений имеет линейная система:  \n",
    "    np.matrix([[1, 2, 3],[4, 5, 6],[7, 8, 9]]) * X = np.array([12, 2, 1])  \n",
    "    Если ноль – то измените вектор правой части так, чтобы система стала совместной, и решите ее. "
   ]
  },
  {
   "cell_type": "code",
   "execution_count": 133,
   "id": "southeast-island",
   "metadata": {},
   "outputs": [],
   "source": [
    "m3 = np.matrix([[1, 2, 3], [4, 5, 6], [7, 8, 9]])\n",
    "v3 = np.array([12, 2, 1])"
   ]
  },
  {
   "cell_type": "code",
   "execution_count": 136,
   "id": "connected-campbell",
   "metadata": {
    "scrolled": true
   },
   "outputs": [
    {
     "data": {
      "text/plain": [
       "matrix([[1, 2, 3],\n",
       "        [4, 5, 6],\n",
       "        [7, 8, 9]])"
      ]
     },
     "execution_count": 136,
     "metadata": {},
     "output_type": "execute_result"
    }
   ],
   "source": [
    "m3"
   ]
  },
  {
   "cell_type": "code",
   "execution_count": 152,
   "id": "guilty-accessory",
   "metadata": {},
   "outputs": [
    {
     "data": {
      "text/plain": [
       "0.0"
      ]
     },
     "execution_count": 152,
     "metadata": {},
     "output_type": "execute_result"
    }
   ],
   "source": [
    "det = np.linalg.det(m3)\n",
    "det"
   ]
  },
  {
   "cell_type": "markdown",
   "id": "victorian-chemistry",
   "metadata": {},
   "source": [
    "Матрица m3 имеет высокую корреляцию данных между строками.\n",
    "Определитель для данной матрицы равен 0, поэтому, система уравнений не может быть решена без изменения ЛЕВОЙ части."
   ]
  },
  {
   "cell_type": "code",
   "execution_count": 143,
   "id": "legendary-essence",
   "metadata": {},
   "outputs": [],
   "source": [
    "m3_2 = np.matrix([[1, 2, 3], [4, 0, 6], [7, 8, 9]])"
   ]
  },
  {
   "cell_type": "code",
   "execution_count": 154,
   "id": "architectural-tragedy",
   "metadata": {
    "scrolled": true
   },
   "outputs": [],
   "source": [
    "X = np.linalg.solve(m3_2, v3)"
   ]
  },
  {
   "cell_type": "code",
   "execution_count": 155,
   "id": "civic-strain",
   "metadata": {},
   "outputs": [
    {
     "data": {
      "text/plain": [
       "array([-9.2       ,  0.9       ,  6.46666667])"
      ]
     },
     "execution_count": 155,
     "metadata": {},
     "output_type": "execute_result"
    }
   ],
   "source": [
    "X"
   ]
  },
  {
   "cell_type": "markdown",
   "id": "organized-variety",
   "metadata": {},
   "source": [
    "******************************************"
   ]
  },
  {
   "cell_type": "markdown",
   "id": "underlying-guess",
   "metadata": {},
   "source": [
    "**4.**   \n",
    "Вычислите LU-разложение матрицы:\n",
    "    np.matrix([[1, 2, 3],[2, 16, 21],[4, 28, 73]]) "
   ]
  },
  {
   "cell_type": "code",
   "execution_count": 115,
   "id": "selective-ethnic",
   "metadata": {},
   "outputs": [],
   "source": [
    "A = np.matrix([[1, 2, 3],[2, 16, 21],[4, 28, 73]]) \n",
    "P, L, U = scipy.linalg.lu(A)"
   ]
  },
  {
   "cell_type": "code",
   "execution_count": 116,
   "id": "acoustic-equality",
   "metadata": {},
   "outputs": [
    {
     "name": "stdout",
     "output_type": "stream",
     "text": [
      "[[0. 1. 0.]\n",
      " [0. 0. 1.]\n",
      " [1. 0. 0.]]\n"
     ]
    }
   ],
   "source": [
    "print(P)"
   ]
  },
  {
   "cell_type": "code",
   "execution_count": 117,
   "id": "surface-split",
   "metadata": {},
   "outputs": [
    {
     "name": "stdout",
     "output_type": "stream",
     "text": [
      "[[ 1.    0.    0.  ]\n",
      " [ 0.25  1.    0.  ]\n",
      " [ 0.5  -0.4   1.  ]]\n"
     ]
    }
   ],
   "source": [
    "print(L)"
   ]
  },
  {
   "cell_type": "code",
   "execution_count": 118,
   "id": "diverse-wednesday",
   "metadata": {
    "scrolled": false
   },
   "outputs": [
    {
     "name": "stdout",
     "output_type": "stream",
     "text": [
      "[[  4.    28.    73.  ]\n",
      " [  0.    -5.   -15.25]\n",
      " [  0.     0.   -21.6 ]]\n"
     ]
    }
   ],
   "source": [
    "print(U)"
   ]
  },
  {
   "cell_type": "markdown",
   "id": "fancy-patient",
   "metadata": {},
   "source": [
    "******************************************************"
   ]
  },
  {
   "cell_type": "markdown",
   "id": "favorite-samba",
   "metadata": {},
   "source": [
    "5. Найдите нормальное псевдорешение недоопределенной системы:  \n",
    "x + 2y – z = 1   \n",
    "8x – 5y + 2z = 12  \n",
    "Для этого определите функцию Q(x,y,z), равную норме решения, и найдите ее минимум.   \n"
   ]
  },
  {
   "cell_type": "code",
   "execution_count": 121,
   "id": "reserved-canal",
   "metadata": {},
   "outputs": [],
   "source": [
    "m5 = np.matrix([[1, 2, -1], [8, -5, 2]])\n",
    "v5 = np.array([1, 12])"
   ]
  },
  {
   "cell_type": "code",
   "execution_count": 156,
   "id": "stopped-mercury",
   "metadata": {},
   "outputs": [],
   "source": [
    "def Q(x, y, z):\n",
    "    return (x**2 + y**2 + z**2)"
   ]
  },
  {
   "cell_type": "code",
   "execution_count": 157,
   "id": "limited-treat",
   "metadata": {
    "scrolled": true
   },
   "outputs": [
    {
     "data": {
      "image/png": "[encoded data removed]",
      "text/plain": [
       "<Figure size 432x288 with 1 Axes>"
      ]
     },
     "metadata": {
      "needs_background": "light"
     },
     "output_type": "display_data"
    }
   ],
   "source": [
    "fig = figure()\n",
    "ax = Axes3D(fig)\n",
    "X = np.arange(-50, 50, 1)\n",
    "Y = np.arange(-50, 50, 1)\n",
    "X, Y = np.meshgrid(X, Y)\n",
    "ax.plot_surface(X, Y, Q(X, X - 14, 21*X - 1))\n",
    "show()"
   ]
  },
  {
   "cell_type": "code",
   "execution_count": 158,
   "id": "narrow-guitar",
   "metadata": {},
   "outputs": [
    {
     "name": "stderr",
     "output_type": "stream",
     "text": [
      "<ipython-input-158-3e7bf5796740>:1: FutureWarning: `rcond` parameter will change to the default of machine precision times ``max(M, N)`` where M and N are the input matrix dimensions.\n",
      "To use the future default and silence this warning we advise to pass `rcond=None`, to keep using the old, explicitly pass `rcond=-1`.\n",
      "  np.linalg.lstsq(m5, v5)\n"
     ]
    },
    {
     "data": {
      "text/plain": [
       "(array([ 1.38191882, -0.18081181,  0.0202952 ]),\n",
       " array([], dtype=float64),\n",
       " 2,\n",
       " array([9.65316119, 2.41173777]))"
      ]
     },
     "execution_count": 158,
     "metadata": {},
     "output_type": "execute_result"
    }
   ],
   "source": [
    "np.linalg.lstsq(m5, v5)"
   ]
  },
  {
   "cell_type": "markdown",
   "id": "lucky-universe",
   "metadata": {},
   "source": [
    "**6.**  \n",
    "Найдите одно из псевдорешений вырожденной системы:\n",
    "np.matrix([[1, 2, 3],[4, 5, 6],[7, 8, 9]]) * X = np.array([2, 5, 11])  \n",
    "Попробуйте также отыскать и нормальное псевдорешение."
   ]
  },
  {
   "cell_type": "code",
   "execution_count": null,
   "id": "diagnostic-adult",
   "metadata": {},
   "outputs": [],
   "source": []
  }
 ],
 "metadata": {
  "kernelspec": {
   "display_name": "Python 3",
   "language": "python",
   "name": "python3"
  },
  "language_info": {
   "codemirror_mode": {
    "name": "ipython",
    "version": 3
   },
   "file_extension": ".py",
   "mimetype": "text/x-python",
   "name": "python",
   "nbconvert_exporter": "python",
   "pygments_lexer": "ipython3",
   "version": "3.9.1"
  }
 },
 "nbformat": 4,
 "nbformat_minor": 5
}
