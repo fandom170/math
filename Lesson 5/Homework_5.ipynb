{
 "cells": [
  {
   "cell_type": "code",
   "execution_count": 2,
   "id": "major-funds",
   "metadata": {},
   "outputs": [],
   "source": [
    "import numpy as np\n",
    "import matplotlib.pyplot as plt"
   ]
  },
  {
   "cell_type": "code",
   "execution_count": 3,
   "id": "legitimate-travel",
   "metadata": {},
   "outputs": [],
   "source": [
    "import random as r"
   ]
  },
  {
   "cell_type": "code",
   "execution_count": 4,
   "id": "nearby-setting",
   "metadata": {},
   "outputs": [],
   "source": [
    "import matplotlib.mlab as mlab"
   ]
  },
  {
   "cell_type": "code",
   "execution_count": 5,
   "id": "passive-strengthening",
   "metadata": {},
   "outputs": [],
   "source": [
    "import pandas as pd"
   ]
  },
  {
   "cell_type": "code",
   "execution_count": 6,
   "id": "hundred-shanghai",
   "metadata": {},
   "outputs": [],
   "source": [
    "%matplotlib inline"
   ]
  },
  {
   "cell_type": "code",
   "execution_count": 195,
   "id": "pregnant-electron",
   "metadata": {},
   "outputs": [],
   "source": [
    "import itertools"
   ]
  },
  {
   "cell_type": "markdown",
   "id": "compatible-turner",
   "metadata": {},
   "source": [
    "### Задание 1  \n",
    "1. Напишите код, моделирующий выпадение поля в рулетке (с учетом поля зеро)."
   ]
  },
  {
   "cell_type": "code",
   "execution_count": 86,
   "id": "stupid-relative",
   "metadata": {},
   "outputs": [],
   "source": [
    "def roulette():\n",
    "    number = r.randint(0, 36)\n",
    "    european_rule_red = [32, 19, 21, 25, 34, 27, 36, 30, 23, 5, 16,  1, 14, 9, 18, 7, 12, 3]\n",
    "    european_rule_black = [15, 4, 2, 17, 6, 13, 11, 8, 10, 24, 33, 20, 31, 22, 29, 28, 35, 26]\n",
    "    if number in european_rule_red:\n",
    "        return f'Выпавший номер {number}, красное.'\n",
    "    elif number in european_rule_black:\n",
    "        return f'Выпавший номер {number}, черное.'\n",
    "    else:\n",
    "        return f'Выпало zero.'"
   ]
  },
  {
   "cell_type": "code",
   "execution_count": 87,
   "id": "popular-factor",
   "metadata": {
    "scrolled": true
   },
   "outputs": [
    {
     "name": "stdout",
     "output_type": "stream",
     "text": [
      "Выпало zero.\n"
     ]
    }
   ],
   "source": [
    "print(roulette())"
   ]
  },
  {
   "cell_type": "markdown",
   "id": "specialized-limit",
   "metadata": {},
   "source": [
    "### Задание 2"
   ]
  },
  {
   "cell_type": "markdown",
   "id": "frank-superior",
   "metadata": {},
   "source": [
    "1. Напишите код, проверяющий любую из теорем сложения или умножения вероятности на примере рулетки или подбрасывания монетки.\n",
    "\n"
   ]
  },
  {
   "cell_type": "code",
   "execution_count": 88,
   "id": "executive-battle",
   "metadata": {},
   "outputs": [],
   "source": [
    "def roulette_2():\n",
    "    number = r.randint(0, 36)\n",
    "    european_rule_red = [32, 19, 21, 25, 34, 27, 36, 30, 23, 5, 16,  1, 14, 9, 18, 7, 12, 3]\n",
    "    european_rule_black = [15, 4, 2, 17, 6, 13, 11, 8, 10, 24, 33, 20, 31, 22, 29, 28, 35, 26]\n",
    "    if number in european_rule_red:\n",
    "        return number, 'r'\n",
    "    elif number in european_rule_black:\n",
    "        return number, 'b'\n",
    "    else:\n",
    "        return number, 'g'\n",
    "    "
   ]
  },
  {
   "cell_type": "code",
   "execution_count": 89,
   "id": "balanced-evening",
   "metadata": {},
   "outputs": [],
   "source": [
    "rotations = 10000"
   ]
  },
  {
   "cell_type": "code",
   "execution_count": 90,
   "id": "civilian-subsection",
   "metadata": {},
   "outputs": [],
   "source": [
    "result = dict()\n",
    "\n",
    "for i in range(rotations):\n",
    "    number, color = roulette_2()\n",
    "    if number not in result:\n",
    "        result[number] = 1\n",
    "    else:\n",
    "        result[number] += 1"
   ]
  },
  {
   "cell_type": "code",
   "execution_count": 91,
   "id": "improving-event",
   "metadata": {},
   "outputs": [
    {
     "name": "stdout",
     "output_type": "stream",
     "text": [
      "\u001b[1mОтвет:\u001b[0m\n",
      "1 выпал 265 раз. Что составляет 2.65% или соответствует вероятности 0.0265\n",
      "11 выпал 260 раз. Что составляет 2.6% или соответствует вероятности 0.026\n",
      "29 выпал 250 раз. Что составляет 2.5% или соответствует вероятности 0.025\n",
      "8 выпал 298 раз. Что составляет 2.98% или соответствует вероятности 0.0298\n",
      "9 выпал 278 раз. Что составляет 2.78% или соответствует вероятности 0.0278\n",
      "28 выпал 285 раз. Что составляет 2.85% или соответствует вероятности 0.0285\n",
      "7 выпал 275 раз. Что составляет 2.75% или соответствует вероятности 0.0275\n",
      "14 выпал 295 раз. Что составляет 2.95% или соответствует вероятности 0.0295\n",
      "20 выпал 259 раз. Что составляет 2.59% или соответствует вероятности 0.0259\n",
      "13 выпал 275 раз. Что составляет 2.75% или соответствует вероятности 0.0275\n",
      "22 выпал 292 раз. Что составляет 2.92% или соответствует вероятности 0.0292\n",
      "15 выпал 277 раз. Что составляет 2.77% или соответствует вероятности 0.0277\n",
      "16 выпал 271 раз. Что составляет 2.71% или соответствует вероятности 0.0271\n",
      "32 выпал 274 раз. Что составляет 2.74% или соответствует вероятности 0.0274\n",
      "30 выпал 270 раз. Что составляет 2.7% или соответствует вероятности 0.027\n",
      "5 выпал 286 раз. Что составляет 2.86% или соответствует вероятности 0.0286\n",
      "26 выпал 275 раз. Что составляет 2.75% или соответствует вероятности 0.0275\n",
      "19 выпал 274 раз. Что составляет 2.74% или соответствует вероятности 0.0274\n",
      "10 выпал 269 раз. Что составляет 2.69% или соответствует вероятности 0.0269\n",
      "31 выпал 278 раз. Что составляет 2.78% или соответствует вероятности 0.0278\n",
      "12 выпал 283 раз. Что составляет 2.83% или соответствует вероятности 0.0283\n",
      "18 выпал 259 раз. Что составляет 2.59% или соответствует вероятности 0.0259\n",
      "25 выпал 230 раз. Что составляет 2.3% или соответствует вероятности 0.023\n",
      "17 выпал 272 раз. Что составляет 2.72% или соответствует вероятности 0.0272\n",
      "36 выпал 286 раз. Что составляет 2.86% или соответствует вероятности 0.0286\n",
      "27 выпал 270 раз. Что составляет 2.7% или соответствует вероятности 0.027\n",
      "21 выпал 258 раз. Что составляет 2.58% или соответствует вероятности 0.0258\n",
      "34 выпал 251 раз. Что составляет 2.51% или соответствует вероятности 0.0251\n",
      "6 выпал 291 раз. Что составляет 2.91% или соответствует вероятности 0.0291\n",
      "35 выпал 267 раз. Что составляет 2.67% или соответствует вероятности 0.0267\n",
      "3 выпал 279 раз. Что составляет 2.79% или соответствует вероятности 0.0279\n",
      "2 выпал 255 раз. Что составляет 2.55% или соответствует вероятности 0.0255\n",
      "4 выпал 280 раз. Что составляет 2.8% или соответствует вероятности 0.028\n",
      "33 выпал 243 раз. Что составляет 2.43% или соответствует вероятности 0.0243\n",
      "0 выпал 263 раз. Что составляет 2.63% или соответствует вероятности 0.0263\n",
      "24 выпал 267 раз. Что составляет 2.67% или соответствует вероятности 0.0267\n",
      "23 выпал 240 раз. Что составляет 2.4% или соответствует вероятности 0.024\n",
      "Базовая вероятность составляет 1/37 или 0.02702702702702703\n",
      "Сумма всех вероятностей составляет 1.0000000000000002 т.к. в общем случае выпадение номеров в рулетке является независимым событием.\n"
     ]
    }
   ],
   "source": [
    "total = 0\n",
    "print('\\033[1m' + 'Ответ:' + '\\033[0m')\n",
    "for key, value in result.items():\n",
    "    total += value/rotations\n",
    "    print(f'{key} выпал {value} раз. Что составляет {value * 100/rotations}% или соответствует вероятности {value/rotations}')\n",
    "print(f'Базовая вероятность составляет 1/37 или {1/37}')\n",
    "print(f'Сумма всех вероятностей составляет {total} т.к. в общем случае выпадение номеров в рулетке является независимым событием.')"
   ]
  },
  {
   "cell_type": "markdown",
   "id": "frank-steal",
   "metadata": {},
   "source": [
    "При увеличении количества вращений рулетки вероятности для каждого из номеров будут приближаться к базовой вероятности."
   ]
  },
  {
   "cell_type": "markdown",
   "id": "italic-closure",
   "metadata": {},
   "source": [
    "2. Сгенерируйте десять выборок случайных чисел х0, …, х9 и постройте гистограмму распределения случайной суммы  +х0+ …+ х 9. "
   ]
  },
  {
   "cell_type": "code",
   "execution_count": 92,
   "id": "impressive-continuity",
   "metadata": {},
   "outputs": [],
   "source": [
    "def random_numbers(n):\n",
    "    return np.random.rand(n)        "
   ]
  },
  {
   "cell_type": "code",
   "execution_count": 93,
   "id": "cordless-cycle",
   "metadata": {},
   "outputs": [],
   "source": [
    "k = 1000"
   ]
  },
  {
   "cell_type": "code",
   "execution_count": 94,
   "id": "silver-picnic",
   "metadata": {},
   "outputs": [],
   "source": [
    "result_task2 = []\n",
    "total_task2 = []\n",
    "j = 10\n",
    "for i in range(k):\n",
    "    numbers = random_numbers(j)\n",
    "    result_task2.extend(numbers)\n",
    "    total_task2.append(numbers.sum())"
   ]
  },
  {
   "cell_type": "code",
   "execution_count": 95,
   "id": "periodic-nashville",
   "metadata": {},
   "outputs": [
    {
     "data": {
      "image/png": "[encoded data removed]",
      "text/plain": [
       "<Figure size 432x288 with 1 Axes>"
      ]
     },
     "metadata": {
      "needs_background": "light"
     },
     "output_type": "display_data"
    }
   ],
   "source": [
    "num_bins = 10\n",
    "n, bins, patches = plt.hist(result_task2, bins = num_bins, facecolor='orange', alpha=0.75)\n",
    "plt.xlabel('number')\n",
    "plt.ylabel('qty')\n",
    "plt.title('distribution by numbers')\n",
    "plt.show()"
   ]
  },
  {
   "cell_type": "code",
   "execution_count": 96,
   "id": "black-church",
   "metadata": {},
   "outputs": [
    {
     "data": {
      "image/png": "[encoded data removed]",
      "text/plain": [
       "<Figure size 432x288 with 1 Axes>"
      ]
     },
     "metadata": {
      "needs_background": "light"
     },
     "output_type": "display_data"
    }
   ],
   "source": [
    "n, bins, patches = plt.hist(total_task2, bins = 10, density=True, facecolor='blue', alpha=0.75)\n",
    "plt.xlabel('number')\n",
    "plt.ylabel('qty')\n",
    "plt.title('distribution by total of numbers')\n",
    "plt.show()"
   ]
  },
  {
   "cell_type": "markdown",
   "id": "anonymous-budget",
   "metadata": {},
   "source": [
    "**Вывод**  \n",
    "Десяти выборок обсолютно недостаточно для получения результата.  \n",
    "Рисунок напоминающий нормально распределение появляется при значительно большем количестве выборок (в данном случае 100 взята для примера)"
   ]
  },
  {
   "cell_type": "markdown",
   "id": "dried-resolution",
   "metadata": {},
   "source": [
    "### Задание 3"
   ]
  },
  {
   "cell_type": "markdown",
   "id": "divine-interface",
   "metadata": {},
   "source": [
    "3.\n",
    "Дополните код Монте-Карло последовательности независимых испытаний расчетом соответствующих вероятностей (через биномиальное распределение) \n",
    "и сравните результаты.\n",
    "Повторите расчеты биномиальных коэффициентов и вероятностей k успехов в последовательности из n независимых испытаний, взяв другие значения n и k.\n"
   ]
  },
  {
   "cell_type": "code",
   "execution_count": 265,
   "id": "nervous-scanning",
   "metadata": {},
   "outputs": [],
   "source": [
    "count = 0 \n",
    "total = 4\n",
    "n = 100\n",
    "p = 0.5\n",
    "a = np.random.randint(0, 2, n)\n",
    "b = np.random.randint(0, 2, n)\n",
    "c = np.random.randint(0, 2, n)\n",
    "d = np.random.randint(0, 2, n)\n",
    "x = a + b + c + d\n",
    "for i in range(0, n):\n",
    "    if x[i] == total:\n",
    "        count += 1"
   ]
  },
  {
   "cell_type": "markdown",
   "id": "junior-shipping",
   "metadata": {},
   "source": [
    "В отличие от исходного расчета вероятность выпадения желаемого результата не равняется 0,5, т.к. мы объединяем результаты четырех серий бросков монеты."
   ]
  },
  {
   "cell_type": "code",
   "execution_count": 266,
   "id": "heavy-gnome",
   "metadata": {
    "scrolled": true
   },
   "outputs": [
    {
     "name": "stdout",
     "output_type": "stream",
     "text": [
      "0000\n",
      "0001\n",
      "0010\n",
      "0011\n",
      "0100\n",
      "0101\n",
      "0110\n",
      "0111\n",
      "1000\n",
      "1001\n",
      "1010\n",
      "1011\n",
      "1100\n",
      "1101\n",
      "1110\n",
      "1111\n"
     ]
    }
   ],
   "source": [
    "for p in itertools.product(\"01\",repeat=4):\n",
    "    print(''.join(p))   "
   ]
  },
  {
   "cell_type": "markdown",
   "id": "stainless-belfast",
   "metadata": {},
   "source": [
    "таким образом, в зависимости от выбранного значения успешного результата вероятность будет колебаться от 1/16 до 1/4."
   ]
  },
  {
   "cell_type": "markdown",
   "id": "jewish-convention",
   "metadata": {},
   "source": [
    "Было принято count = 4, что означает только один успешный вариант = 1111, т.е. вероятность составляет 1/16.  "
   ]
  },
  {
   "cell_type": "code",
   "execution_count": 272,
   "id": "presidential-malta",
   "metadata": {},
   "outputs": [],
   "source": [
    "# Количество взятых объектов из серии измерений\n",
    "k=2"
   ]
  },
  {
   "cell_type": "code",
   "execution_count": 273,
   "id": "certified-approach",
   "metadata": {},
   "outputs": [
    {
     "data": {
      "text/plain": [
       "4950.0"
      ]
     },
     "execution_count": 273,
     "metadata": {},
     "output_type": "execute_result"
    }
   ],
   "source": [
    "# Общее количество сочетаний исходов для сочетаний.       \n",
    "Ckn = (np.math.factorial(n))/((np.math.factorial(k))*((np.math.factorial(n-k))))        \n",
    "Ckn"
   ]
  },
  {
   "cell_type": "code",
   "execution_count": 274,
   "id": "anticipated-delay",
   "metadata": {},
   "outputs": [
    {
     "data": {
      "text/plain": [
       "9900.0"
      ]
     },
     "execution_count": 274,
     "metadata": {},
     "output_type": "execute_result"
    }
   ],
   "source": [
    "# Общее количество сочетаний исходов для размещений.   \n",
    "Akn = (np.math.factorial(n))/(np.math.factorial(n-k))        \n",
    "Akn"
   ]
  },
  {
   "cell_type": "code",
   "execution_count": 275,
   "id": "productive-burner",
   "metadata": {},
   "outputs": [],
   "source": [
    "# Вероятность k исходов из n попыток\n",
    "Pnk = Ckn * (1/16)**k * (1-1/16)**(n-k)"
   ]
  },
  {
   "cell_type": "code",
   "execution_count": 276,
   "id": "relevant-secret",
   "metadata": {},
   "outputs": [
    {
     "name": "stdout",
     "output_type": "stream",
     "text": [
      " количество успешных попыток: 10,\n",
      " общее количество попыток: 100,\n",
      " фактическая вероятность: 0.1,      \n",
      " теоретическая вероятность 0.034637801638318845 для 2 взятых объектов\n"
     ]
    }
   ],
   "source": [
    "print(f' количество успешных попыток: {count},\\n общее количество попыток: {n},\\n фактическая вероятность: {count/(n)},\\\n",
    "      \\n теоретическая вероятность {Pnk} для {k} взятых объектов')"
   ]
  },
  {
   "cell_type": "markdown",
   "id": "strategic-fraud",
   "metadata": {},
   "source": [
    "4. (не обязательно, но желательно) Из урока по комбинаторике повторите расчеты, сгенерировав возможные варианты перестановок для других значений n и k\n"
   ]
  },
  {
   "cell_type": "code",
   "execution_count": 278,
   "id": "coupled-chair",
   "metadata": {},
   "outputs": [
    {
     "name": "stdout",
     "output_type": "stream",
     "text": [
      "111\n",
      "112\n",
      "113\n",
      "114\n",
      "115\n",
      "116\n",
      "121\n",
      "122\n",
      "123\n",
      "124\n",
      "125\n",
      "126\n",
      "131\n",
      "132\n",
      "133\n",
      "134\n",
      "135\n",
      "136\n",
      "141\n",
      "142\n",
      "143\n",
      "144\n",
      "145\n",
      "146\n",
      "151\n",
      "152\n",
      "153\n",
      "154\n",
      "155\n",
      "156\n",
      "161\n",
      "162\n",
      "163\n",
      "164\n",
      "165\n",
      "166\n",
      "211\n",
      "212\n",
      "213\n",
      "214\n",
      "215\n",
      "216\n",
      "221\n",
      "222\n",
      "223\n",
      "224\n",
      "225\n",
      "226\n",
      "231\n",
      "232\n",
      "233\n",
      "234\n",
      "235\n",
      "236\n",
      "241\n",
      "242\n",
      "243\n",
      "244\n",
      "245\n",
      "246\n",
      "251\n",
      "252\n",
      "253\n",
      "254\n",
      "255\n",
      "256\n",
      "261\n",
      "262\n",
      "263\n",
      "264\n",
      "265\n",
      "266\n",
      "311\n",
      "312\n",
      "313\n",
      "314\n",
      "315\n",
      "316\n",
      "321\n",
      "322\n",
      "323\n",
      "324\n",
      "325\n",
      "326\n",
      "331\n",
      "332\n",
      "333\n",
      "334\n",
      "335\n",
      "336\n",
      "341\n",
      "342\n",
      "343\n",
      "344\n",
      "345\n",
      "346\n",
      "351\n",
      "352\n",
      "353\n",
      "354\n",
      "355\n",
      "356\n",
      "361\n",
      "362\n",
      "363\n",
      "364\n",
      "365\n",
      "366\n",
      "411\n",
      "412\n",
      "413\n",
      "414\n",
      "415\n",
      "416\n",
      "421\n",
      "422\n",
      "423\n",
      "424\n",
      "425\n",
      "426\n",
      "431\n",
      "432\n",
      "433\n",
      "434\n",
      "435\n",
      "436\n",
      "441\n",
      "442\n",
      "443\n",
      "444\n",
      "445\n",
      "446\n",
      "451\n",
      "452\n",
      "453\n",
      "454\n",
      "455\n",
      "456\n",
      "461\n",
      "462\n",
      "463\n",
      "464\n",
      "465\n",
      "466\n",
      "511\n",
      "512\n",
      "513\n",
      "514\n",
      "515\n",
      "516\n",
      "521\n",
      "522\n",
      "523\n",
      "524\n",
      "525\n",
      "526\n",
      "531\n",
      "532\n",
      "533\n",
      "534\n",
      "535\n",
      "536\n",
      "541\n",
      "542\n",
      "543\n",
      "544\n",
      "545\n",
      "546\n",
      "551\n",
      "552\n",
      "553\n",
      "554\n",
      "555\n",
      "556\n",
      "561\n",
      "562\n",
      "563\n",
      "564\n",
      "565\n",
      "566\n",
      "611\n",
      "612\n",
      "613\n",
      "614\n",
      "615\n",
      "616\n",
      "621\n",
      "622\n",
      "623\n",
      "624\n",
      "625\n",
      "626\n",
      "631\n",
      "632\n",
      "633\n",
      "634\n",
      "635\n",
      "636\n",
      "641\n",
      "642\n",
      "643\n",
      "644\n",
      "645\n",
      "646\n",
      "651\n",
      "652\n",
      "653\n",
      "654\n",
      "655\n",
      "656\n",
      "661\n",
      "662\n",
      "663\n",
      "664\n",
      "665\n",
      "666\n"
     ]
    }
   ],
   "source": [
    "for p in itertools.product(\"123456\",repeat=3):\n",
    "    print(''.join(p))  "
   ]
  },
  {
   "cell_type": "code",
   "execution_count": 282,
   "id": "aggregate-bridal",
   "metadata": {},
   "outputs": [
    {
     "name": "stdout",
     "output_type": "stream",
     "text": [
      "12\n",
      "13\n",
      "14\n",
      "15\n",
      "16\n",
      "21\n",
      "23\n",
      "24\n",
      "25\n",
      "26\n",
      "31\n",
      "32\n",
      "34\n",
      "35\n",
      "36\n",
      "41\n",
      "42\n",
      "43\n",
      "45\n",
      "46\n",
      "51\n",
      "52\n",
      "53\n",
      "54\n",
      "56\n",
      "61\n",
      "62\n",
      "63\n",
      "64\n",
      "65\n"
     ]
    }
   ],
   "source": [
    "for p in itertools.permutations(\"123456\", 2):\n",
    "    print(''.join(p))  "
   ]
  },
  {
   "cell_type": "code",
   "execution_count": 283,
   "id": "individual-roots",
   "metadata": {},
   "outputs": [
    {
     "name": "stdout",
     "output_type": "stream",
     "text": [
      "12\n",
      "13\n",
      "14\n",
      "15\n",
      "16\n",
      "23\n",
      "24\n",
      "25\n",
      "26\n",
      "34\n",
      "35\n",
      "36\n",
      "45\n",
      "46\n",
      "56\n"
     ]
    }
   ],
   "source": [
    "for p in itertools.combinations(\"123456\", 2):\n",
    "    print(''.join(p))  "
   ]
  },
  {
   "cell_type": "markdown",
   "id": "developed-michigan",
   "metadata": {},
   "source": [
    "5. (не обязательно) Дополните код расчетом коэффициента корреляции x и y по формуле\n",
    " "
   ]
  },
  {
   "cell_type": "code",
   "execution_count": 294,
   "id": "personal-focus",
   "metadata": {
    "scrolled": true
   },
   "outputs": [
    {
     "name": "stdout",
     "output_type": "stream",
     "text": [
      "0.6360674877781385 0.18493649830364814\n",
      "0.6360674877781386 0.18493649830364817\n"
     ]
    },
    {
     "name": "stderr",
     "output_type": "stream",
     "text": [
      "<ipython-input-294-50059b4f6a05>:14: FutureWarning: `rcond` parameter will change to the default of machine precision times ``max(M, N)`` where M and N are the input matrix dimensions.\n",
      "To use the future default and silence this warning we advise to pass `rcond=None`, to keep using the old, explicitly pass `rcond=-1`.\n",
      "  a1, b1 = np.linalg.lstsq(A, y)[0]\n"
     ]
    },
    {
     "data": {
      "image/png": "[encoded data removed]",
      "text/plain": [
       "<Figure size 432x288 with 1 Axes>"
      ]
     },
     "metadata": {
      "needs_background": "light"
     },
     "output_type": "display_data"
    }
   ],
   "source": [
    "n = 100\n",
    "r = 0.65\n",
    "x = np.random.rand(n)\n",
    "y = r*x + (1 - r)*np.random.rand(n)\n",
    "plt.plot(x, y, 'o')\n",
    "plt.xlabel('x')\n",
    "plt.ylabel('y')\n",
    "plt.grid(True)\n",
    "\n",
    "a = (np.sum(x)*np.sum(y) - n*np.sum(x*y))/(np.sum(x)*np.sum(x) - n*np.sum(x*x))\n",
    "b = (np.sum(y) - a*np.sum(x))/n\n",
    "\n",
    "A = np.vstack([x, np.ones(len(x))]).T\n",
    "a1, b1 = np.linalg.lstsq(A, y)[0]\n",
    "print(a, b)\n",
    "print(a1, b1)\n",
    "\n",
    "plt.plot([0, 1], [b, a + b])\n",
    "plt.show()\n"
   ]
  },
  {
   "cell_type": "code",
   "execution_count": 295,
   "id": "hourly-superintendent",
   "metadata": {},
   "outputs": [
    {
     "data": {
      "text/plain": [
       "array([[1.        , 0.84923832],\n",
       "       [0.84923832, 1.        ]])"
      ]
     },
     "execution_count": 295,
     "metadata": {},
     "output_type": "execute_result"
    }
   ],
   "source": [
    "c = np.corrcoef(x, y)\n",
    "c"
   ]
  },
  {
   "cell_type": "code",
   "execution_count": 296,
   "id": "commercial-charles",
   "metadata": {},
   "outputs": [],
   "source": [
    "xm = x.mean()\n",
    "ym = y.mean()"
   ]
  },
  {
   "cell_type": "code",
   "execution_count": 297,
   "id": "express-breast",
   "metadata": {},
   "outputs": [
    {
     "data": {
      "text/plain": [
       "0.49688799988794324"
      ]
     },
     "execution_count": 297,
     "metadata": {},
     "output_type": "execute_result"
    }
   ],
   "source": [
    "xm"
   ]
  },
  {
   "cell_type": "code",
   "execution_count": 298,
   "id": "intellectual-swaziland",
   "metadata": {},
   "outputs": [
    {
     "data": {
      "text/plain": [
       "0.5009908000994762"
      ]
     },
     "execution_count": 298,
     "metadata": {},
     "output_type": "execute_result"
    }
   ],
   "source": [
    "ym"
   ]
  },
  {
   "cell_type": "code",
   "execution_count": 327,
   "id": "waiting-doctrine",
   "metadata": {},
   "outputs": [],
   "source": [
    "R = np.sum((x-xm)*(y-ym))/(np.sqrt(np.sum((x-xm)**2)*np.sum((y-ym)**2)))"
   ]
  },
  {
   "cell_type": "markdown",
   "id": "expressed-auditor",
   "metadata": {},
   "source": [
    "**Ответ:**"
   ]
  },
  {
   "cell_type": "code",
   "execution_count": 328,
   "id": "enhanced-ferry",
   "metadata": {},
   "outputs": [
    {
     "data": {
      "text/plain": [
       "0.8492383164166463"
      ]
     },
     "execution_count": 328,
     "metadata": {},
     "output_type": "execute_result"
    }
   ],
   "source": [
    "R"
   ]
  },
  {
   "cell_type": "code",
   "execution_count": null,
   "id": "architectural-diary",
   "metadata": {},
   "outputs": [],
   "source": []
  }
 ],
 "metadata": {
  "kernelspec": {
   "display_name": "Python 3",
   "language": "python",
   "name": "python3"
  },
  "language_info": {
   "codemirror_mode": {
    "name": "ipython",
    "version": 3
   },
   "file_extension": ".py",
   "mimetype": "text/x-python",
   "name": "python",
   "nbconvert_exporter": "python",
   "pygments_lexer": "ipython3",
   "version": "3.9.1"
  }
 },
 "nbformat": 4,
 "nbformat_minor": 5
}
